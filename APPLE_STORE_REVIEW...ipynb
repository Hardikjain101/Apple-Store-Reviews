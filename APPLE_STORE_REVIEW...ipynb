{
 "cells": [
  {
   "cell_type": "code",
   "execution_count": 1,
   "id": "79739168-b69b-44bc-b23d-c2af617a47ff",
   "metadata": {},
   "outputs": [],
   "source": [
    "import pandas as pd\n",
    "import numpy as np\n",
    "import matplotlib.pyplot as plt\n",
    "import seaborn as sns\n",
    "from scipy.stats import ttest_ind"
   ]
  },
  {
   "cell_type": "code",
   "execution_count": 2,
   "id": "b6350689-e2f0-406f-978b-34bd613e4634",
   "metadata": {},
   "outputs": [
    {
     "data": {
      "text/html": [
       "<div>\n",
       "<style scoped>\n",
       "    .dataframe tbody tr th:only-of-type {\n",
       "        vertical-align: middle;\n",
       "    }\n",
       "\n",
       "    .dataframe tbody tr th {\n",
       "        vertical-align: top;\n",
       "    }\n",
       "\n",
       "    .dataframe thead th {\n",
       "        text-align: right;\n",
       "    }\n",
       "</style>\n",
       "<table border=\"1\" class=\"dataframe\">\n",
       "  <thead>\n",
       "    <tr style=\"text-align: right;\">\n",
       "      <th></th>\n",
       "      <th>Review_ID</th>\n",
       "      <th>App_Name</th>\n",
       "      <th>User_Age</th>\n",
       "      <th>Review_Date</th>\n",
       "      <th>Rating</th>\n",
       "      <th>Review_Text</th>\n",
       "      <th>Likes</th>\n",
       "      <th>Device_Type</th>\n",
       "      <th>Version_Used</th>\n",
       "      <th>Country</th>\n",
       "      <th>Purchase_Amount</th>\n",
       "      <th>Category</th>\n",
       "    </tr>\n",
       "  </thead>\n",
       "  <tbody>\n",
       "    <tr>\n",
       "      <th>0</th>\n",
       "      <td>1</td>\n",
       "      <td>Candy Crush Saga</td>\n",
       "      <td>21</td>\n",
       "      <td>2023-01-16</td>\n",
       "      <td>4</td>\n",
       "      <td>Great game, but too many in-game purchases.</td>\n",
       "      <td>70</td>\n",
       "      <td>iPhone 12</td>\n",
       "      <td>3.231.19</td>\n",
       "      <td>Australia</td>\n",
       "      <td>0.00</td>\n",
       "      <td>Games</td>\n",
       "    </tr>\n",
       "    <tr>\n",
       "      <th>1</th>\n",
       "      <td>2</td>\n",
       "      <td>Spotify</td>\n",
       "      <td>57</td>\n",
       "      <td>2024-02-01</td>\n",
       "      <td>1</td>\n",
       "      <td>Good, but has connection issues sometimes.</td>\n",
       "      <td>49</td>\n",
       "      <td>iPhone SE</td>\n",
       "      <td>4.102.9</td>\n",
       "      <td>Germany</td>\n",
       "      <td>7.15</td>\n",
       "      <td>Music</td>\n",
       "    </tr>\n",
       "    <tr>\n",
       "      <th>2</th>\n",
       "      <td>3</td>\n",
       "      <td>TikTok</td>\n",
       "      <td>33</td>\n",
       "      <td>2023-11-30</td>\n",
       "      <td>5</td>\n",
       "      <td>Awesome app! Best entertainment content.</td>\n",
       "      <td>98</td>\n",
       "      <td>iPhone 12</td>\n",
       "      <td>7.52.0</td>\n",
       "      <td>Germany</td>\n",
       "      <td>4.98</td>\n",
       "      <td>Entertainment</td>\n",
       "    </tr>\n",
       "    <tr>\n",
       "      <th>3</th>\n",
       "      <td>4</td>\n",
       "      <td>Audible</td>\n",
       "      <td>40</td>\n",
       "      <td>2023-04-03</td>\n",
       "      <td>5</td>\n",
       "      <td>Great app, but it's a bit pricey.</td>\n",
       "      <td>74</td>\n",
       "      <td>iPhone 13</td>\n",
       "      <td>5.260.15</td>\n",
       "      <td>Australia</td>\n",
       "      <td>0.00</td>\n",
       "      <td>Books</td>\n",
       "    </tr>\n",
       "    <tr>\n",
       "      <th>4</th>\n",
       "      <td>5</td>\n",
       "      <td>Spotify</td>\n",
       "      <td>44</td>\n",
       "      <td>2023-05-01</td>\n",
       "      <td>1</td>\n",
       "      <td>Good, but has connection issues sometimes.</td>\n",
       "      <td>47</td>\n",
       "      <td>iPhone SE</td>\n",
       "      <td>4.50.18</td>\n",
       "      <td>Australia</td>\n",
       "      <td>14.31</td>\n",
       "      <td>Music</td>\n",
       "    </tr>\n",
       "    <tr>\n",
       "      <th>...</th>\n",
       "      <td>...</td>\n",
       "      <td>...</td>\n",
       "      <td>...</td>\n",
       "      <td>...</td>\n",
       "      <td>...</td>\n",
       "      <td>...</td>\n",
       "      <td>...</td>\n",
       "      <td>...</td>\n",
       "      <td>...</td>\n",
       "      <td>...</td>\n",
       "      <td>...</td>\n",
       "      <td>...</td>\n",
       "    </tr>\n",
       "    <tr>\n",
       "      <th>995</th>\n",
       "      <td>996</td>\n",
       "      <td>Headspace</td>\n",
       "      <td>30</td>\n",
       "      <td>2023-11-15</td>\n",
       "      <td>3</td>\n",
       "      <td>Good, but the premium content is expensive.</td>\n",
       "      <td>65</td>\n",
       "      <td>iPhone SE</td>\n",
       "      <td>6.284.11</td>\n",
       "      <td>US</td>\n",
       "      <td>0.00</td>\n",
       "      <td>Health</td>\n",
       "    </tr>\n",
       "    <tr>\n",
       "      <th>996</th>\n",
       "      <td>997</td>\n",
       "      <td>Duolingo</td>\n",
       "      <td>19</td>\n",
       "      <td>2024-09-27</td>\n",
       "      <td>1</td>\n",
       "      <td>Disappointing. Hard to follow and buggy.</td>\n",
       "      <td>4</td>\n",
       "      <td>iPhone SE</td>\n",
       "      <td>6.293.8</td>\n",
       "      <td>Canada</td>\n",
       "      <td>7.25</td>\n",
       "      <td>Education</td>\n",
       "    </tr>\n",
       "    <tr>\n",
       "      <th>997</th>\n",
       "      <td>998</td>\n",
       "      <td>Duolingo</td>\n",
       "      <td>38</td>\n",
       "      <td>2023-06-07</td>\n",
       "      <td>5</td>\n",
       "      <td>Excellent for learning new skills!</td>\n",
       "      <td>85</td>\n",
       "      <td>iPhone 11</td>\n",
       "      <td>10.277.15</td>\n",
       "      <td>Mexico</td>\n",
       "      <td>13.33</td>\n",
       "      <td>Education</td>\n",
       "    </tr>\n",
       "    <tr>\n",
       "      <th>998</th>\n",
       "      <td>999</td>\n",
       "      <td>Instagram</td>\n",
       "      <td>52</td>\n",
       "      <td>2024-03-04</td>\n",
       "      <td>4</td>\n",
       "      <td>Great app, but sometimes it lags.</td>\n",
       "      <td>55</td>\n",
       "      <td>iPhone 13</td>\n",
       "      <td>3.52.20</td>\n",
       "      <td>US</td>\n",
       "      <td>6.37</td>\n",
       "      <td>Social</td>\n",
       "    </tr>\n",
       "    <tr>\n",
       "      <th>999</th>\n",
       "      <td>1000</td>\n",
       "      <td>Audible</td>\n",
       "      <td>25</td>\n",
       "      <td>2024-02-20</td>\n",
       "      <td>2</td>\n",
       "      <td>Terrible. Very limited selection of books.</td>\n",
       "      <td>7</td>\n",
       "      <td>iPhone 13</td>\n",
       "      <td>9.150.8</td>\n",
       "      <td>India</td>\n",
       "      <td>8.32</td>\n",
       "      <td>Books</td>\n",
       "    </tr>\n",
       "  </tbody>\n",
       "</table>\n",
       "<p>1000 rows × 12 columns</p>\n",
       "</div>"
      ],
      "text/plain": [
       "     Review_ID          App_Name  User_Age Review_Date  Rating  \\\n",
       "0            1  Candy Crush Saga        21  2023-01-16       4   \n",
       "1            2           Spotify        57  2024-02-01       1   \n",
       "2            3            TikTok        33  2023-11-30       5   \n",
       "3            4           Audible        40  2023-04-03       5   \n",
       "4            5           Spotify        44  2023-05-01       1   \n",
       "..         ...               ...       ...         ...     ...   \n",
       "995        996         Headspace        30  2023-11-15       3   \n",
       "996        997          Duolingo        19  2024-09-27       1   \n",
       "997        998          Duolingo        38  2023-06-07       5   \n",
       "998        999         Instagram        52  2024-03-04       4   \n",
       "999       1000           Audible        25  2024-02-20       2   \n",
       "\n",
       "                                     Review_Text  Likes Device_Type  \\\n",
       "0    Great game, but too many in-game purchases.     70   iPhone 12   \n",
       "1     Good, but has connection issues sometimes.     49   iPhone SE   \n",
       "2       Awesome app! Best entertainment content.     98   iPhone 12   \n",
       "3              Great app, but it's a bit pricey.     74   iPhone 13   \n",
       "4     Good, but has connection issues sometimes.     47   iPhone SE   \n",
       "..                                           ...    ...         ...   \n",
       "995  Good, but the premium content is expensive.     65   iPhone SE   \n",
       "996     Disappointing. Hard to follow and buggy.      4   iPhone SE   \n",
       "997           Excellent for learning new skills!     85   iPhone 11   \n",
       "998            Great app, but sometimes it lags.     55   iPhone 13   \n",
       "999   Terrible. Very limited selection of books.      7   iPhone 13   \n",
       "\n",
       "    Version_Used    Country  Purchase_Amount       Category  \n",
       "0       3.231.19  Australia             0.00          Games  \n",
       "1        4.102.9    Germany             7.15          Music  \n",
       "2         7.52.0    Germany             4.98  Entertainment  \n",
       "3       5.260.15  Australia             0.00          Books  \n",
       "4        4.50.18  Australia            14.31          Music  \n",
       "..           ...        ...              ...            ...  \n",
       "995     6.284.11         US             0.00         Health  \n",
       "996      6.293.8     Canada             7.25      Education  \n",
       "997    10.277.15     Mexico            13.33      Education  \n",
       "998      3.52.20         US             6.37         Social  \n",
       "999      9.150.8      India             8.32          Books  \n",
       "\n",
       "[1000 rows x 12 columns]"
      ]
     },
     "execution_count": 2,
     "metadata": {},
     "output_type": "execute_result"
    }
   ],
   "source": [
    "data = pd.read_csv('Apple_Store_Reviews.csv')\n",
    "data"
   ]
  },
  {
   "cell_type": "code",
   "execution_count": 3,
   "id": "347eb39c-91b8-407a-99f0-a84b321b7b1f",
   "metadata": {},
   "outputs": [
    {
     "name": "stdout",
     "output_type": "stream",
     "text": [
      "Dataset Overview:\n",
      "   Review_ID          App_Name  User_Age Review_Date  Rating  \\\n",
      "0          1  Candy Crush Saga        21  2023-01-16       4   \n",
      "1          2           Spotify        57  2024-02-01       1   \n",
      "2          3            TikTok        33  2023-11-30       5   \n",
      "3          4           Audible        40  2023-04-03       5   \n",
      "4          5           Spotify        44  2023-05-01       1   \n",
      "\n",
      "                                   Review_Text  Likes Device_Type  \\\n",
      "0  Great game, but too many in-game purchases.     70   iPhone 12   \n",
      "1   Good, but has connection issues sometimes.     49   iPhone SE   \n",
      "2     Awesome app! Best entertainment content.     98   iPhone 12   \n",
      "3            Great app, but it's a bit pricey.     74   iPhone 13   \n",
      "4   Good, but has connection issues sometimes.     47   iPhone SE   \n",
      "\n",
      "  Version_Used    Country  Purchase_Amount       Category  \n",
      "0     3.231.19  Australia             0.00          Games  \n",
      "1      4.102.9    Germany             7.15          Music  \n",
      "2       7.52.0    Germany             4.98  Entertainment  \n",
      "3     5.260.15  Australia             0.00          Books  \n",
      "4      4.50.18  Australia            14.31          Music  \n"
     ]
    }
   ],
   "source": [
    "print(\"Dataset Overview:\")\n",
    "print(data.head())\n"
   ]
  },
  {
   "cell_type": "code",
   "execution_count": 7,
   "id": "76253d3f-6e18-4e25-b9b8-e6615d432faa",
   "metadata": {},
   "outputs": [
    {
     "name": "stdout",
     "output_type": "stream",
     "text": [
      "\n",
      "=== Central Tendency of Ratings ===\n",
      "Mean Rating: 2.869\n",
      "Median Rating: 3.0\n",
      "Mode Rating: 1\n"
     ]
    }
   ],
   "source": [
    "print(\"\\n=== Central Tendency of Ratings ===\")\n",
    "print(f\"Mean Rating: {mean_rating}\")\n",
    "print(f\"Median Rating: {median_rating}\")\n",
    "print(f\"Mode Rating: {mode_rating}\")"
   ]
  },
  {
   "cell_type": "code",
   "execution_count": 9,
   "id": "56162129-f55a-43be-a3b0-21a545510269",
   "metadata": {},
   "outputs": [
    {
     "name": "stdout",
     "output_type": "stream",
     "text": [
      "\n",
      "=== Purchase Amount Statistics ===\n",
      "Purchase Amount Range: 19.97\n",
      "IQR of Purchase Amount: 10.192499999999999\n"
     ]
    }
   ],
   "source": [
    "purchase_min = data['Purchase_Amount'].min()\n",
    "purchase_max = data['Purchase_Amount'].max()\n",
    "purchase_range = purchase_max - purchase_min\n",
    "q1 = data['Purchase_Amount'].quantile(0.25)\n",
    "q3 = data['Purchase_Amount'].quantile(0.75)\n",
    "iqr_purchase = q3 - q1\n",
    "\n",
    "print(\"\\n=== Purchase Amount Statistics ===\")\n",
    "print(f\"Purchase Amount Range: {purchase_range}\")\n",
    "print(f\"IQR of Purchase Amount: {iqr_purchase}\")\n"
   ]
  },
  {
   "cell_type": "code",
   "execution_count": 10,
   "id": "5e76a328-a78b-4cc2-b9f1-0c68361dc955",
   "metadata": {},
   "outputs": [
    {
     "name": "stdout",
     "output_type": "stream",
     "text": [
      "\n",
      "=== Likes Statistics ===\n",
      "Variance of Likes: 822.8546786786787\n",
      "Standard Deviation of Likes: 28.685443672334557\n"
     ]
    }
   ],
   "source": [
    "likes_variance = data['Likes'].var()\n",
    "likes_std_dev = data['Likes'].std()\n",
    "\n",
    "print(\"\\n=== Likes Statistics ===\")\n",
    "print(f\"Variance of Likes: {likes_variance}\")\n",
    "print(f\"Standard Deviation of Likes: {likes_std_dev}\")"
   ]
  },
  {
   "cell_type": "code",
   "execution_count": 11,
   "id": "61aa0e03-274a-40ae-9d9f-86871e8c4fe6",
   "metadata": {},
   "outputs": [
    {
     "name": "stdout",
     "output_type": "stream",
     "text": [
      "\n",
      "=== Correlation ===\n",
      "Correlation between Likes and Rating: 0.8425414470584173\n"
     ]
    }
   ],
   "source": [
    "correlation = data['Likes'].corr(data['Rating'])\n",
    "print(\"\\n=== Correlation ===\")\n",
    "print(f\"Correlation between Likes and Rating: {correlation}\")\n"
   ]
  },
  {
   "cell_type": "code",
   "execution_count": 12,
   "id": "cfe4b5ff-2e58-4901-a455-de8a45426e64",
   "metadata": {},
   "outputs": [
    {
     "data": {
      "image/png": "[encoded data removed]",
      "text/plain": [
       "<Figure size 800x500 with 1 Axes>"
      ]
     },
     "metadata": {},
     "output_type": "display_data"
    }
   ],
   "source": [
    "plt.figure(figsize=(8, 5))\n",
    "sns.histplot(data['Rating'], kde=True, color='blue')\n",
    "plt.title('Distribution of Ratings')\n",
    "plt.xlabel('Rating')\n",
    "plt.ylabel('Frequency')\n",
    "plt.show()"
   ]
  },
  {
   "cell_type": "code",
   "execution_count": 13,
   "id": "740e47f2-095f-4cba-981b-6c21a3832931",
   "metadata": {},
   "outputs": [
    {
     "name": "stdout",
     "output_type": "stream",
     "text": [
      "\n",
      "=== Skewness of Ratings ===\n",
      "Skewness: 0.10182054838079216\n",
      "Ratings are positively skewed.\n"
     ]
    }
   ],
   "source": [
    "skewness = data['Rating'].skew()\n",
    "print(\"\\n=== Skewness of Ratings ===\")\n",
    "print(f\"Skewness: {skewness}\")\n",
    "if skewness > 0:\n",
    "    print(\"Ratings are positively skewed.\")\n",
    "elif skewness < 0:\n",
    "    print(\"Ratings are negatively skewed.\")\n",
    "else:\n",
    "    print(\"Ratings are symmetric.\")"
   ]
  },
  {
   "cell_type": "code",
   "execution_count": null,
   "id": "cc0aa30b-2549-41cd-a1c0-60d14bd19f7e",
   "metadata": {},
   "outputs": [],
   "source": []
  },
  {
   "cell_type": "code",
   "execution_count": 21,
   "id": "058da80b-5a79-429d-b7b7-b116a76e0516",
   "metadata": {},
   "outputs": [],
   "source": [
    "instagram_ratings = data[data['App_Name'] == 'Instagram']['Rating']\n",
    "whatsapp_ratings = data[data['App_Name'] == 'WhatsApp']['Rating']"
   ]
  },
  {
   "cell_type": "code",
   "execution_count": 20,
   "id": "cb837692-aa0b-4cc2-a656-64b88dfa3307",
   "metadata": {},
   "outputs": [
    {
     "data": {
      "image/png": "[encoded data removed]",
      "text/plain": [
       "<Figure size 800x500 with 1 Axes>"
      ]
     },
     "metadata": {},
     "output_type": "display_data"
    },
    {
     "name": "stdout",
     "output_type": "stream",
     "text": [
      "\n",
      "Sampling distribution shows the Central Limit Theorem in action.\n"
     ]
    }
   ],
   "source": [
    "sample_means = []\n",
    "sample_size = 30\n",
    "for _ in range(1000):\n",
    "    sample = data['Rating'].sample(sample_size, replace=True)\n",
    "    sample_means.append(sample.mean())\n",
    "\n",
    "# Plot sampling distribution\n",
    "plt.figure(figsize=(8, 5))\n",
    "sns.histplot(sample_means, kde=True, color='green')\n",
    "plt.title('Sampling Distribution of Ratings')\n",
    "plt.xlabel('Sample Mean')\n",
    "plt.ylabel('Frequency')\n",
    "plt.show()\n",
    "\n",
    "print(\"\\nSampling distribution shows the Central Limit Theorem in action.\")"
   ]
  },
  {
   "cell_type": "code",
   "execution_count": null,
   "id": "15c0eafa-cb59-43fa-949c-8ebf781c6db8",
   "metadata": {},
   "outputs": [],
   "source": []
  }
 ],
 "metadata": {
  "kernelspec": {
   "display_name": "Python 3 (ipykernel)",
   "language": "python",
   "name": "python3"
  },
  "language_info": {
   "codemirror_mode": {
    "name": "ipython",
    "version": 3
   },
   "file_extension": ".py",
   "mimetype": "text/x-python",
   "name": "python",
   "nbconvert_exporter": "python",
   "pygments_lexer": "ipython3",
   "version": "3.13.0"
  }
 },
 "nbformat": 4,
 "nbformat_minor": 5
}
